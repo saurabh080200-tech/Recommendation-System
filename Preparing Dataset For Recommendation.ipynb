{
 "cells": [
  {
   "cell_type": "code",
   "execution_count": 1,
   "metadata": {},
   "outputs": [
    {
     "name": "stderr",
     "output_type": "stream",
     "text": [
      "c:\\users\\mittal\\appdata\\local\\programs\\python\\python37\\lib\\site-packages\\numpy\\_distributor_init.py:32: UserWarning: loaded more than 1 DLL from .libs:\n",
      "c:\\users\\mittal\\appdata\\local\\programs\\python\\python37\\lib\\site-packages\\numpy\\.libs\\libopenblas.PYQHXLVVQ7VESDPUVUADXEVJOBGHJPAY.gfortran-win_amd64.dll\n",
      "c:\\users\\mittal\\appdata\\local\\programs\\python\\python37\\lib\\site-packages\\numpy\\.libs\\libopenblas.TXA6YQSD3GCQQC22GEQ54J2UDCXDXHWN.gfortran-win_amd64.dll\n",
      "  stacklevel=1)\n",
      "[nltk_data] Downloading package stopwords to\n",
      "[nltk_data]     C:\\Users\\Mittal\\AppData\\Roaming\\nltk_data...\n",
      "[nltk_data]   Package stopwords is already up-to-date!\n",
      "[nltk_data] Downloading package wordnet to\n",
      "[nltk_data]     C:\\Users\\Mittal\\AppData\\Roaming\\nltk_data...\n",
      "[nltk_data]   Package wordnet is already up-to-date!\n"
     ]
    }
   ],
   "source": [
    "import pandas as pd\n",
    "import numpy as np\n",
    "from sklearn.feature_extraction.text import TfidfVectorizer\n",
    "import nltk\n",
    "import gensim\n",
    "from nltk.corpus import stopwords\n",
    "import string\n",
    "from nltk.stem.wordnet import WordNetLemmatizer\n",
    "nltk.download(\"stopwords\")\n",
    "nltk.download('wordnet')\n",
    "from sklearn.metrics.pairwise import cosine_similarity\n",
    "import requests\n",
    "from bs4 import BeautifulSoup\n",
    "pd.set_option('display.max_columns', None)\n",
    "import ast\n",
    "from matplotlib import pyplot as plt\n",
    "import seaborn as sns"
   ]
  },
  {
   "cell_type": "code",
   "execution_count": 14,
   "metadata": {},
   "outputs": [],
   "source": [
    "def collection(url,total_loops):\n",
    "    \n",
    "    title=[]\n",
    "    summary=[]\n",
    "    genre=[]\n",
    "    ratings=[]\n",
    "    vote_count=[]\n",
    "    \n",
    "    for j in range(total_loops):\n",
    "        response=requests.get(url)\n",
    "        soup=BeautifulSoup(response.content,'html.parser')\n",
    "\n",
    "        movie_data=soup.findAll('div',attrs={'class':'lister-item mode-advanced'})\n",
    "        for i in movie_data:\n",
    "            title.append(i.h3.a.text)\n",
    "            \n",
    "            summary.append(i.findAll('p',class_='text-muted')[1].text.strip())\n",
    "            \n",
    "            genre.append(i.p.find('span',attrs={'class':'genre'}).text.replace(',',' ') if i.p.find('span',attrs={'class':'genre'}) else \"unknown\")\n",
    "            \n",
    "            rate=i.find('div',attrs={'class':'inline-block ratings-imdb-rating'}).strong.text if i.find('div',attrs={'class':'inline-block ratings-imdb-rating'}) else 0\n",
    "            ratings.append(float(rate))\n",
    "            \n",
    "            value=i.findAll('span',attrs={'name':'nv'})\n",
    "            if (value):\n",
    "                vote = value[0].text.replace(',','')\n",
    "                vote_count.append(vote)\n",
    "            else:\n",
    "                vote_count.append(0)\n",
    "\n",
    "            \n",
    "        if (soup.find('a',attrs={'class':'lister-page-next next-page'})):\n",
    "            if soup.find('a',attrs={'class':'lister-page-next next-page'}).get('href'):\n",
    "                url='https://www.imdb.com'+soup.find('a',attrs={'class':'lister-page-next next-page'}).get('href')\n",
    "            else:\n",
    "                break\n",
    "        else:\n",
    "            break\n",
    "    \n",
    "    return title,summary,genre,ratings,vote_count "
   ]
  },
  {
   "cell_type": "code",
   "execution_count": 16,
   "metadata": {},
   "outputs": [],
   "source": [
    "titles_2016,overview_2016,genre_2016,ratings_2016,vote_2016=collection('https://www.imdb.com/search/title/?count=100&languages=en&release_date=2016,2016&title_type=feature',20)"
   ]
  },
  {
   "cell_type": "code",
   "execution_count": 17,
   "metadata": {},
   "outputs": [
    {
     "name": "stdout",
     "output_type": "stream",
     "text": [
      "2000 2000 2000 2000 2000\n"
     ]
    }
   ],
   "source": [
    "print(len(titles_2016),len(overview_2016),len(genre_2016),len(ratings_2016),len(vote_2016))"
   ]
  },
  {
   "cell_type": "code",
   "execution_count": 18,
   "metadata": {},
   "outputs": [],
   "source": [
    "dataset_for_2016=pd.DataFrame({'genres':genre_2016,'original_title':titles_2016,'overview':overview_2016,'ratings':ratings_2016,'votes':vote_2016})"
   ]
  },
  {
   "cell_type": "code",
   "execution_count": 19,
   "metadata": {},
   "outputs": [
    {
     "data": {
      "text/html": [
       "<div>\n",
       "<style scoped>\n",
       "    .dataframe tbody tr th:only-of-type {\n",
       "        vertical-align: middle;\n",
       "    }\n",
       "\n",
       "    .dataframe tbody tr th {\n",
       "        vertical-align: top;\n",
       "    }\n",
       "\n",
       "    .dataframe thead th {\n",
       "        text-align: right;\n",
       "    }\n",
       "</style>\n",
       "<table border=\"1\" class=\"dataframe\">\n",
       "  <thead>\n",
       "    <tr style=\"text-align: right;\">\n",
       "      <th></th>\n",
       "      <th>genres</th>\n",
       "      <th>original_title</th>\n",
       "      <th>overview</th>\n",
       "      <th>ratings</th>\n",
       "      <th>votes</th>\n",
       "    </tr>\n",
       "  </thead>\n",
       "  <tbody>\n",
       "    <tr>\n",
       "      <th>0</th>\n",
       "      <td>\\nAction  Adventure  Sci-Fi</td>\n",
       "      <td>Batman v Superman: Dawn of Justice</td>\n",
       "      <td>Fearing that the actions of Superman are left ...</td>\n",
       "      <td>6.4</td>\n",
       "      <td>642262</td>\n",
       "    </tr>\n",
       "    <tr>\n",
       "      <th>1</th>\n",
       "      <td>\\nAction  Adventure  Fantasy</td>\n",
       "      <td>Suicide Squad</td>\n",
       "      <td>A secret government agency recruits some of th...</td>\n",
       "      <td>6.0</td>\n",
       "      <td>611523</td>\n",
       "    </tr>\n",
       "    <tr>\n",
       "      <th>2</th>\n",
       "      <td>\\nAction  Adventure  Sci-Fi</td>\n",
       "      <td>Captain America: Civil War</td>\n",
       "      <td>Political involvement in the Avengers' affairs...</td>\n",
       "      <td>7.8</td>\n",
       "      <td>675546</td>\n",
       "    </tr>\n",
       "    <tr>\n",
       "      <th>3</th>\n",
       "      <td>\\nComedy  Drama</td>\n",
       "      <td>Captain Fantastic</td>\n",
       "      <td>In the forests of the Pacific Northwest, a fat...</td>\n",
       "      <td>7.9</td>\n",
       "      <td>194321</td>\n",
       "    </tr>\n",
       "    <tr>\n",
       "      <th>4</th>\n",
       "      <td>\\nAction  Adventure  Comedy</td>\n",
       "      <td>Deadpool</td>\n",
       "      <td>A wisecracking mercenary gets experimented on ...</td>\n",
       "      <td>8.0</td>\n",
       "      <td>913350</td>\n",
       "    </tr>\n",
       "  </tbody>\n",
       "</table>\n",
       "</div>"
      ],
      "text/plain": [
       "                                     genres  \\\n",
       "0   \\nAction  Adventure  Sci-Fi               \n",
       "1  \\nAction  Adventure  Fantasy               \n",
       "2   \\nAction  Adventure  Sci-Fi               \n",
       "3               \\nComedy  Drama               \n",
       "4   \\nAction  Adventure  Comedy               \n",
       "\n",
       "                       original_title  \\\n",
       "0  Batman v Superman: Dawn of Justice   \n",
       "1                       Suicide Squad   \n",
       "2          Captain America: Civil War   \n",
       "3                   Captain Fantastic   \n",
       "4                            Deadpool   \n",
       "\n",
       "                                            overview  ratings   votes  \n",
       "0  Fearing that the actions of Superman are left ...      6.4  642262  \n",
       "1  A secret government agency recruits some of th...      6.0  611523  \n",
       "2  Political involvement in the Avengers' affairs...      7.8  675546  \n",
       "3  In the forests of the Pacific Northwest, a fat...      7.9  194321  \n",
       "4  A wisecracking mercenary gets experimented on ...      8.0  913350  "
      ]
     },
     "execution_count": 19,
     "metadata": {},
     "output_type": "execute_result"
    }
   ],
   "source": [
    "dataset_for_2016.head()"
   ]
  },
  {
   "cell_type": "code",
   "execution_count": 20,
   "metadata": {},
   "outputs": [],
   "source": [
    "dataset_for_2016['genres']=dataset_for_2016['genres'].apply(lambda x: x.strip())"
   ]
  },
  {
   "cell_type": "code",
   "execution_count": 21,
   "metadata": {},
   "outputs": [
    {
     "data": {
      "text/html": [
       "<div>\n",
       "<style scoped>\n",
       "    .dataframe tbody tr th:only-of-type {\n",
       "        vertical-align: middle;\n",
       "    }\n",
       "\n",
       "    .dataframe tbody tr th {\n",
       "        vertical-align: top;\n",
       "    }\n",
       "\n",
       "    .dataframe thead th {\n",
       "        text-align: right;\n",
       "    }\n",
       "</style>\n",
       "<table border=\"1\" class=\"dataframe\">\n",
       "  <thead>\n",
       "    <tr style=\"text-align: right;\">\n",
       "      <th></th>\n",
       "      <th>genres</th>\n",
       "      <th>original_title</th>\n",
       "      <th>overview</th>\n",
       "      <th>ratings</th>\n",
       "      <th>votes</th>\n",
       "    </tr>\n",
       "  </thead>\n",
       "  <tbody>\n",
       "    <tr>\n",
       "      <th>0</th>\n",
       "      <td>Action  Adventure  Sci-Fi</td>\n",
       "      <td>Batman v Superman: Dawn of Justice</td>\n",
       "      <td>Fearing that the actions of Superman are left ...</td>\n",
       "      <td>6.4</td>\n",
       "      <td>642262</td>\n",
       "    </tr>\n",
       "    <tr>\n",
       "      <th>1</th>\n",
       "      <td>Action  Adventure  Fantasy</td>\n",
       "      <td>Suicide Squad</td>\n",
       "      <td>A secret government agency recruits some of th...</td>\n",
       "      <td>6.0</td>\n",
       "      <td>611523</td>\n",
       "    </tr>\n",
       "    <tr>\n",
       "      <th>2</th>\n",
       "      <td>Action  Adventure  Sci-Fi</td>\n",
       "      <td>Captain America: Civil War</td>\n",
       "      <td>Political involvement in the Avengers' affairs...</td>\n",
       "      <td>7.8</td>\n",
       "      <td>675546</td>\n",
       "    </tr>\n",
       "    <tr>\n",
       "      <th>3</th>\n",
       "      <td>Comedy  Drama</td>\n",
       "      <td>Captain Fantastic</td>\n",
       "      <td>In the forests of the Pacific Northwest, a fat...</td>\n",
       "      <td>7.9</td>\n",
       "      <td>194321</td>\n",
       "    </tr>\n",
       "    <tr>\n",
       "      <th>4</th>\n",
       "      <td>Action  Adventure  Comedy</td>\n",
       "      <td>Deadpool</td>\n",
       "      <td>A wisecracking mercenary gets experimented on ...</td>\n",
       "      <td>8.0</td>\n",
       "      <td>913350</td>\n",
       "    </tr>\n",
       "  </tbody>\n",
       "</table>\n",
       "</div>"
      ],
      "text/plain": [
       "                       genres                      original_title  \\\n",
       "0   Action  Adventure  Sci-Fi  Batman v Superman: Dawn of Justice   \n",
       "1  Action  Adventure  Fantasy                       Suicide Squad   \n",
       "2   Action  Adventure  Sci-Fi          Captain America: Civil War   \n",
       "3               Comedy  Drama                   Captain Fantastic   \n",
       "4   Action  Adventure  Comedy                            Deadpool   \n",
       "\n",
       "                                            overview  ratings   votes  \n",
       "0  Fearing that the actions of Superman are left ...      6.4  642262  \n",
       "1  A secret government agency recruits some of th...      6.0  611523  \n",
       "2  Political involvement in the Avengers' affairs...      7.8  675546  \n",
       "3  In the forests of the Pacific Northwest, a fat...      7.9  194321  \n",
       "4  A wisecracking mercenary gets experimented on ...      8.0  913350  "
      ]
     },
     "execution_count": 21,
     "metadata": {},
     "output_type": "execute_result"
    }
   ],
   "source": [
    "dataset_for_2016.head()"
   ]
  },
  {
   "cell_type": "code",
   "execution_count": 30,
   "metadata": {},
   "outputs": [],
   "source": [
    "rows_to_drop=dataset_for_2016[dataset_for_2016['votes'].str.endswith('M',na=False)].index[0]"
   ]
  },
  {
   "cell_type": "code",
   "execution_count": 32,
   "metadata": {},
   "outputs": [],
   "source": [
    "dataset_for_2016=dataset_for_2016.drop(rows_to_drop)"
   ]
  },
  {
   "cell_type": "code",
   "execution_count": 33,
   "metadata": {},
   "outputs": [
    {
     "data": {
      "text/plain": [
       "(1999, 5)"
      ]
     },
     "execution_count": 33,
     "metadata": {},
     "output_type": "execute_result"
    }
   ],
   "source": [
    "dataset_for_2016.shape"
   ]
  },
  {
   "cell_type": "code",
   "execution_count": null,
   "metadata": {},
   "outputs": [],
   "source": []
  },
  {
   "cell_type": "markdown",
   "metadata": {},
   "source": [
    "### Collecting Dataset For 2017"
   ]
  },
  {
   "cell_type": "code",
   "execution_count": 34,
   "metadata": {},
   "outputs": [],
   "source": [
    "titles_2017,overview_2017,genre_2017,ratings_2017,vote_2017=collection('https://www.imdb.com/search/title/?count=100&languages=en&release_date=2017,2017&title_type=feature',20)"
   ]
  },
  {
   "cell_type": "code",
   "execution_count": 35,
   "metadata": {},
   "outputs": [
    {
     "name": "stdout",
     "output_type": "stream",
     "text": [
      "2000 2000 2000 2000 2000\n"
     ]
    }
   ],
   "source": [
    "print(len(titles_2017),len(overview_2017),len(genre_2017),len(ratings_2017),len(vote_2017))"
   ]
  },
  {
   "cell_type": "code",
   "execution_count": 36,
   "metadata": {},
   "outputs": [],
   "source": [
    "dataset_for_2017=pd.DataFrame({'genres':genre_2017,'original_title':titles_2017,'overview':overview_2017,'ratings':ratings_2017,'votes':vote_2017})"
   ]
  },
  {
   "cell_type": "code",
   "execution_count": 37,
   "metadata": {},
   "outputs": [],
   "source": [
    "dataset_for_2017['genres']=dataset_for_2017['genres'].apply(lambda x: x.strip())"
   ]
  },
  {
   "cell_type": "code",
   "execution_count": 38,
   "metadata": {},
   "outputs": [
    {
     "data": {
      "text/html": [
       "<div>\n",
       "<style scoped>\n",
       "    .dataframe tbody tr th:only-of-type {\n",
       "        vertical-align: middle;\n",
       "    }\n",
       "\n",
       "    .dataframe tbody tr th {\n",
       "        vertical-align: top;\n",
       "    }\n",
       "\n",
       "    .dataframe thead th {\n",
       "        text-align: right;\n",
       "    }\n",
       "</style>\n",
       "<table border=\"1\" class=\"dataframe\">\n",
       "  <thead>\n",
       "    <tr style=\"text-align: right;\">\n",
       "      <th></th>\n",
       "      <th>genres</th>\n",
       "      <th>original_title</th>\n",
       "      <th>overview</th>\n",
       "      <th>ratings</th>\n",
       "      <th>votes</th>\n",
       "    </tr>\n",
       "  </thead>\n",
       "  <tbody>\n",
       "    <tr>\n",
       "      <th>0</th>\n",
       "      <td>Action  Adventure  Fantasy</td>\n",
       "      <td>Justice League</td>\n",
       "      <td>Fueled by his restored faith in humanity and i...</td>\n",
       "      <td>6.2</td>\n",
       "      <td>405678</td>\n",
       "    </tr>\n",
       "    <tr>\n",
       "      <th>1</th>\n",
       "      <td>Action  Adventure  Fantasy</td>\n",
       "      <td>Wonder Woman</td>\n",
       "      <td>When a pilot crashes and tells of conflict in ...</td>\n",
       "      <td>7.4</td>\n",
       "      <td>583597</td>\n",
       "    </tr>\n",
       "    <tr>\n",
       "      <th>2</th>\n",
       "      <td>Biography  Crime  Drama</td>\n",
       "      <td>Molly's Game</td>\n",
       "      <td>The true story of Molly Bloom, an Olympic-clas...</td>\n",
       "      <td>7.4</td>\n",
       "      <td>147461</td>\n",
       "    </tr>\n",
       "    <tr>\n",
       "      <th>3</th>\n",
       "      <td>Action  Drama  Mystery</td>\n",
       "      <td>Blade Runner 2049</td>\n",
       "      <td>Young Blade Runner K's discovery of a long-bur...</td>\n",
       "      <td>8.0</td>\n",
       "      <td>471443</td>\n",
       "    </tr>\n",
       "    <tr>\n",
       "      <th>4</th>\n",
       "      <td>Action  Adventure  Comedy</td>\n",
       "      <td>Thor: Ragnarok</td>\n",
       "      <td>Imprisoned on the planet Sakaar, Thor must rac...</td>\n",
       "      <td>7.9</td>\n",
       "      <td>602442</td>\n",
       "    </tr>\n",
       "  </tbody>\n",
       "</table>\n",
       "</div>"
      ],
      "text/plain": [
       "                       genres     original_title  \\\n",
       "0  Action  Adventure  Fantasy     Justice League   \n",
       "1  Action  Adventure  Fantasy       Wonder Woman   \n",
       "2     Biography  Crime  Drama       Molly's Game   \n",
       "3      Action  Drama  Mystery  Blade Runner 2049   \n",
       "4   Action  Adventure  Comedy     Thor: Ragnarok   \n",
       "\n",
       "                                            overview  ratings   votes  \n",
       "0  Fueled by his restored faith in humanity and i...      6.2  405678  \n",
       "1  When a pilot crashes and tells of conflict in ...      7.4  583597  \n",
       "2  The true story of Molly Bloom, an Olympic-clas...      7.4  147461  \n",
       "3  Young Blade Runner K's discovery of a long-bur...      8.0  471443  \n",
       "4  Imprisoned on the planet Sakaar, Thor must rac...      7.9  602442  "
      ]
     },
     "execution_count": 38,
     "metadata": {},
     "output_type": "execute_result"
    }
   ],
   "source": [
    "dataset_for_2017.head()"
   ]
  },
  {
   "cell_type": "code",
   "execution_count": null,
   "metadata": {},
   "outputs": [],
   "source": []
  },
  {
   "cell_type": "markdown",
   "metadata": {},
   "source": [
    "### Collecting Dataset For 2018"
   ]
  },
  {
   "cell_type": "code",
   "execution_count": 39,
   "metadata": {},
   "outputs": [],
   "source": [
    "titles_2018,overview_2018,genre_2018,ratings_2018,vote_2018=collection('https://www.imdb.com/search/title/?count=100&languages=en&release_date=2018,2018&title_type=feature',20)"
   ]
  },
  {
   "cell_type": "code",
   "execution_count": 40,
   "metadata": {},
   "outputs": [
    {
     "name": "stdout",
     "output_type": "stream",
     "text": [
      "2000 2000 2000 2000 2000\n"
     ]
    }
   ],
   "source": [
    "print(len(titles_2018),len(overview_2018),len(genre_2018),len(ratings_2018),len(vote_2018))"
   ]
  },
  {
   "cell_type": "code",
   "execution_count": 41,
   "metadata": {},
   "outputs": [],
   "source": [
    "dataset_for_2018=pd.DataFrame({'genres':genre_2018,'original_title':titles_2018,'overview':overview_2018,'ratings':ratings_2018,'votes':vote_2018})"
   ]
  },
  {
   "cell_type": "code",
   "execution_count": 42,
   "metadata": {},
   "outputs": [],
   "source": [
    "dataset_for_2018['genres']=dataset_for_2018['genres'].apply(lambda x: x.strip())"
   ]
  },
  {
   "cell_type": "code",
   "execution_count": 43,
   "metadata": {},
   "outputs": [
    {
     "data": {
      "text/html": [
       "<div>\n",
       "<style scoped>\n",
       "    .dataframe tbody tr th:only-of-type {\n",
       "        vertical-align: middle;\n",
       "    }\n",
       "\n",
       "    .dataframe tbody tr th {\n",
       "        vertical-align: top;\n",
       "    }\n",
       "\n",
       "    .dataframe thead th {\n",
       "        text-align: right;\n",
       "    }\n",
       "</style>\n",
       "<table border=\"1\" class=\"dataframe\">\n",
       "  <thead>\n",
       "    <tr style=\"text-align: right;\">\n",
       "      <th></th>\n",
       "      <th>genres</th>\n",
       "      <th>original_title</th>\n",
       "      <th>overview</th>\n",
       "      <th>ratings</th>\n",
       "      <th>votes</th>\n",
       "    </tr>\n",
       "  </thead>\n",
       "  <tbody>\n",
       "    <tr>\n",
       "      <th>0</th>\n",
       "      <td>Action  Adventure  Fantasy</td>\n",
       "      <td>Aquaman</td>\n",
       "      <td>Arthur Curry, the human-born heir to the under...</td>\n",
       "      <td>6.9</td>\n",
       "      <td>386207</td>\n",
       "    </tr>\n",
       "    <tr>\n",
       "      <th>1</th>\n",
       "      <td>Action  Adventure  Sci-Fi</td>\n",
       "      <td>Avengers: Infinity War</td>\n",
       "      <td>The Avengers and their allies must be willing ...</td>\n",
       "      <td>8.4</td>\n",
       "      <td>859398</td>\n",
       "    </tr>\n",
       "    <tr>\n",
       "      <th>2</th>\n",
       "      <td>Biography  Drama  Music</td>\n",
       "      <td>Bohemian Rhapsody</td>\n",
       "      <td>The story of the legendary British rock band Q...</td>\n",
       "      <td>8.0</td>\n",
       "      <td>460491</td>\n",
       "    </tr>\n",
       "    <tr>\n",
       "      <th>3</th>\n",
       "      <td>Action  Adventure  Sci-Fi</td>\n",
       "      <td>Black Panther</td>\n",
       "      <td>T'Challa, heir to the hidden but advanced king...</td>\n",
       "      <td>7.3</td>\n",
       "      <td>637594</td>\n",
       "    </tr>\n",
       "    <tr>\n",
       "      <th>4</th>\n",
       "      <td>Action  Adventure  Comedy</td>\n",
       "      <td>Deadpool 2</td>\n",
       "      <td>Foul-mouthed mutant mercenary Wade Wilson (a.k...</td>\n",
       "      <td>7.7</td>\n",
       "      <td>489256</td>\n",
       "    </tr>\n",
       "  </tbody>\n",
       "</table>\n",
       "</div>"
      ],
      "text/plain": [
       "                       genres          original_title  \\\n",
       "0  Action  Adventure  Fantasy                 Aquaman   \n",
       "1   Action  Adventure  Sci-Fi  Avengers: Infinity War   \n",
       "2     Biography  Drama  Music       Bohemian Rhapsody   \n",
       "3   Action  Adventure  Sci-Fi           Black Panther   \n",
       "4   Action  Adventure  Comedy              Deadpool 2   \n",
       "\n",
       "                                            overview  ratings   votes  \n",
       "0  Arthur Curry, the human-born heir to the under...      6.9  386207  \n",
       "1  The Avengers and their allies must be willing ...      8.4  859398  \n",
       "2  The story of the legendary British rock band Q...      8.0  460491  \n",
       "3  T'Challa, heir to the hidden but advanced king...      7.3  637594  \n",
       "4  Foul-mouthed mutant mercenary Wade Wilson (a.k...      7.7  489256  "
      ]
     },
     "execution_count": 43,
     "metadata": {},
     "output_type": "execute_result"
    }
   ],
   "source": [
    "dataset_for_2018.head()"
   ]
  },
  {
   "cell_type": "code",
   "execution_count": null,
   "metadata": {},
   "outputs": [],
   "source": []
  },
  {
   "cell_type": "markdown",
   "metadata": {},
   "source": [
    "### Collecting Dataset For 2019"
   ]
  },
  {
   "cell_type": "code",
   "execution_count": 44,
   "metadata": {},
   "outputs": [],
   "source": [
    "titles_2019,overview_2019,genre_2019,ratings_2019,vote_2019=collection('https://www.imdb.com/search/title/?count=100&languages=en&release_date=2019,2019&title_type=feature',20)"
   ]
  },
  {
   "cell_type": "code",
   "execution_count": 46,
   "metadata": {},
   "outputs": [
    {
     "name": "stdout",
     "output_type": "stream",
     "text": [
      "2000 2000 2000 2000 2000\n"
     ]
    }
   ],
   "source": [
    "print(len(titles_2019),len(overview_2019),len(genre_2019),len(ratings_2019),len(vote_2019))"
   ]
  },
  {
   "cell_type": "code",
   "execution_count": 47,
   "metadata": {},
   "outputs": [],
   "source": [
    "dataset_for_2019=pd.DataFrame({'genres':genre_2019,'original_title':titles_2019,'overview':overview_2019,'ratings':ratings_2019,'votes':vote_2019})"
   ]
  },
  {
   "cell_type": "code",
   "execution_count": 48,
   "metadata": {},
   "outputs": [],
   "source": [
    "dataset_for_2019['genres']=dataset_for_2019['genres'].apply(lambda x: x.strip())"
   ]
  },
  {
   "cell_type": "code",
   "execution_count": 49,
   "metadata": {},
   "outputs": [
    {
     "data": {
      "text/html": [
       "<div>\n",
       "<style scoped>\n",
       "    .dataframe tbody tr th:only-of-type {\n",
       "        vertical-align: middle;\n",
       "    }\n",
       "\n",
       "    .dataframe tbody tr th {\n",
       "        vertical-align: top;\n",
       "    }\n",
       "\n",
       "    .dataframe thead th {\n",
       "        text-align: right;\n",
       "    }\n",
       "</style>\n",
       "<table border=\"1\" class=\"dataframe\">\n",
       "  <thead>\n",
       "    <tr style=\"text-align: right;\">\n",
       "      <th></th>\n",
       "      <th>genres</th>\n",
       "      <th>original_title</th>\n",
       "      <th>overview</th>\n",
       "      <th>ratings</th>\n",
       "      <th>votes</th>\n",
       "    </tr>\n",
       "  </thead>\n",
       "  <tbody>\n",
       "    <tr>\n",
       "      <th>0</th>\n",
       "      <td>Action  Adventure  Drama</td>\n",
       "      <td>Avengers: Endgame</td>\n",
       "      <td>After the devastating events of Avengers: Infi...</td>\n",
       "      <td>8.4</td>\n",
       "      <td>847749</td>\n",
       "    </tr>\n",
       "    <tr>\n",
       "      <th>1</th>\n",
       "      <td>Drama  Music</td>\n",
       "      <td>Sound of Metal</td>\n",
       "      <td>A heavy-metal drummer's life is thrown into fr...</td>\n",
       "      <td>7.8</td>\n",
       "      <td>52484</td>\n",
       "    </tr>\n",
       "    <tr>\n",
       "      <th>2</th>\n",
       "      <td>Crime  Drama  Thriller</td>\n",
       "      <td>Joker</td>\n",
       "      <td>In Gotham City, mentally troubled comedian Art...</td>\n",
       "      <td>8.4</td>\n",
       "      <td>973389</td>\n",
       "    </tr>\n",
       "    <tr>\n",
       "      <th>3</th>\n",
       "      <td>Comedy  Drama</td>\n",
       "      <td>Once Upon a Time... in Hollywood</td>\n",
       "      <td>A faded television actor and his stunt double ...</td>\n",
       "      <td>7.6</td>\n",
       "      <td>568890</td>\n",
       "    </tr>\n",
       "    <tr>\n",
       "      <th>4</th>\n",
       "      <td>Action  Adventure  Fantasy</td>\n",
       "      <td>Godzilla: King of the Monsters</td>\n",
       "      <td>The crypto-zoological agency Monarch faces off...</td>\n",
       "      <td>6.0</td>\n",
       "      <td>145747</td>\n",
       "    </tr>\n",
       "  </tbody>\n",
       "</table>\n",
       "</div>"
      ],
      "text/plain": [
       "                       genres                    original_title  \\\n",
       "0    Action  Adventure  Drama                 Avengers: Endgame   \n",
       "1                Drama  Music                    Sound of Metal   \n",
       "2      Crime  Drama  Thriller                             Joker   \n",
       "3               Comedy  Drama  Once Upon a Time... in Hollywood   \n",
       "4  Action  Adventure  Fantasy    Godzilla: King of the Monsters   \n",
       "\n",
       "                                            overview  ratings   votes  \n",
       "0  After the devastating events of Avengers: Infi...      8.4  847749  \n",
       "1  A heavy-metal drummer's life is thrown into fr...      7.8   52484  \n",
       "2  In Gotham City, mentally troubled comedian Art...      8.4  973389  \n",
       "3  A faded television actor and his stunt double ...      7.6  568890  \n",
       "4  The crypto-zoological agency Monarch faces off...      6.0  145747  "
      ]
     },
     "execution_count": 49,
     "metadata": {},
     "output_type": "execute_result"
    }
   ],
   "source": [
    "dataset_for_2019.head()"
   ]
  },
  {
   "cell_type": "code",
   "execution_count": null,
   "metadata": {},
   "outputs": [],
   "source": []
  },
  {
   "cell_type": "markdown",
   "metadata": {},
   "source": [
    "### Collecting Dataset For 2020"
   ]
  },
  {
   "cell_type": "code",
   "execution_count": 50,
   "metadata": {},
   "outputs": [],
   "source": [
    "titles_2020,overview_2020,genre_2020,ratings_2020,vote_2020=collection('https://www.imdb.com/search/title/?count=100&languages=en&release_date=2020,2020&title_type=feature',20)"
   ]
  },
  {
   "cell_type": "code",
   "execution_count": 51,
   "metadata": {},
   "outputs": [
    {
     "name": "stdout",
     "output_type": "stream",
     "text": [
      "2000 2000 2000 2000 2000\n"
     ]
    }
   ],
   "source": [
    "print(len(titles_2020),len(overview_2020),len(genre_2020),len(ratings_2020),len(vote_2020))"
   ]
  },
  {
   "cell_type": "code",
   "execution_count": 52,
   "metadata": {},
   "outputs": [],
   "source": [
    "dataset_for_2020=pd.DataFrame({'genres':genre_2020,'original_title':titles_2020,'overview':overview_2020,'ratings':ratings_2020,'votes':vote_2020})"
   ]
  },
  {
   "cell_type": "code",
   "execution_count": 53,
   "metadata": {},
   "outputs": [],
   "source": [
    "dataset_for_2020['genres']=dataset_for_2020['genres'].apply(lambda x: x.strip())"
   ]
  },
  {
   "cell_type": "code",
   "execution_count": 54,
   "metadata": {},
   "outputs": [
    {
     "data": {
      "text/html": [
       "<div>\n",
       "<style scoped>\n",
       "    .dataframe tbody tr th:only-of-type {\n",
       "        vertical-align: middle;\n",
       "    }\n",
       "\n",
       "    .dataframe tbody tr th {\n",
       "        vertical-align: top;\n",
       "    }\n",
       "\n",
       "    .dataframe thead th {\n",
       "        text-align: right;\n",
       "    }\n",
       "</style>\n",
       "<table border=\"1\" class=\"dataframe\">\n",
       "  <thead>\n",
       "    <tr style=\"text-align: right;\">\n",
       "      <th></th>\n",
       "      <th>genres</th>\n",
       "      <th>original_title</th>\n",
       "      <th>overview</th>\n",
       "      <th>ratings</th>\n",
       "      <th>votes</th>\n",
       "    </tr>\n",
       "  </thead>\n",
       "  <tbody>\n",
       "    <tr>\n",
       "      <th>0</th>\n",
       "      <td>Crime  Drama  Thriller</td>\n",
       "      <td>Promising Young Woman</td>\n",
       "      <td>A young woman, traumatized by a tragic event i...</td>\n",
       "      <td>7.5</td>\n",
       "      <td>60659</td>\n",
       "    </tr>\n",
       "    <tr>\n",
       "      <th>1</th>\n",
       "      <td>Drama</td>\n",
       "      <td>Nomadland</td>\n",
       "      <td>After losing everything in the Great Recession...</td>\n",
       "      <td>7.6</td>\n",
       "      <td>45948</td>\n",
       "    </tr>\n",
       "    <tr>\n",
       "      <th>2</th>\n",
       "      <td>Action  Adventure  Fantasy</td>\n",
       "      <td>Wonder Woman 1984</td>\n",
       "      <td>Diana must contend with a work colleague and b...</td>\n",
       "      <td>5.4</td>\n",
       "      <td>184005</td>\n",
       "    </tr>\n",
       "    <tr>\n",
       "      <th>3</th>\n",
       "      <td>Drama</td>\n",
       "      <td>The Father</td>\n",
       "      <td>A man refuses all assistance from his daughter...</td>\n",
       "      <td>8.3</td>\n",
       "      <td>16568</td>\n",
       "    </tr>\n",
       "    <tr>\n",
       "      <th>4</th>\n",
       "      <td>Comedy  Crime  Thriller</td>\n",
       "      <td>I Care a Lot</td>\n",
       "      <td>A crooked legal guardian who drains the saving...</td>\n",
       "      <td>6.3</td>\n",
       "      <td>80540</td>\n",
       "    </tr>\n",
       "  </tbody>\n",
       "</table>\n",
       "</div>"
      ],
      "text/plain": [
       "                       genres         original_title  \\\n",
       "0      Crime  Drama  Thriller  Promising Young Woman   \n",
       "1                       Drama              Nomadland   \n",
       "2  Action  Adventure  Fantasy      Wonder Woman 1984   \n",
       "3                       Drama             The Father   \n",
       "4     Comedy  Crime  Thriller           I Care a Lot   \n",
       "\n",
       "                                            overview  ratings   votes  \n",
       "0  A young woman, traumatized by a tragic event i...      7.5   60659  \n",
       "1  After losing everything in the Great Recession...      7.6   45948  \n",
       "2  Diana must contend with a work colleague and b...      5.4  184005  \n",
       "3  A man refuses all assistance from his daughter...      8.3   16568  \n",
       "4  A crooked legal guardian who drains the saving...      6.3   80540  "
      ]
     },
     "execution_count": 54,
     "metadata": {},
     "output_type": "execute_result"
    }
   ],
   "source": [
    "dataset_for_2020.head()"
   ]
  },
  {
   "cell_type": "code",
   "execution_count": null,
   "metadata": {},
   "outputs": [],
   "source": []
  },
  {
   "cell_type": "markdown",
   "metadata": {},
   "source": [
    "### Collecting Dataset For 2021"
   ]
  },
  {
   "cell_type": "code",
   "execution_count": 55,
   "metadata": {},
   "outputs": [],
   "source": [
    "titles_2021,overview_2021,genre_2021,ratings_2021,vote_2021=collection('https://www.imdb.com/search/title/?count=100&languages=en&release_date=2021,2021&title_type=feature',1)"
   ]
  },
  {
   "cell_type": "code",
   "execution_count": 56,
   "metadata": {},
   "outputs": [
    {
     "name": "stdout",
     "output_type": "stream",
     "text": [
      "100 100 100 100 100\n"
     ]
    }
   ],
   "source": [
    "print(len(titles_2021),len(overview_2021),len(genre_2021),len(ratings_2021),len(vote_2021))"
   ]
  },
  {
   "cell_type": "code",
   "execution_count": 57,
   "metadata": {},
   "outputs": [],
   "source": [
    "dataset_for_2021=pd.DataFrame({'genres':genre_2021,'original_title':titles_2021,'overview':overview_2021,'ratings':ratings_2021,'votes':vote_2021})"
   ]
  },
  {
   "cell_type": "code",
   "execution_count": 58,
   "metadata": {},
   "outputs": [],
   "source": [
    "dataset_for_2021['genres']=dataset_for_2021['genres'].apply(lambda x: x.strip())"
   ]
  },
  {
   "cell_type": "code",
   "execution_count": 59,
   "metadata": {},
   "outputs": [
    {
     "data": {
      "text/html": [
       "<div>\n",
       "<style scoped>\n",
       "    .dataframe tbody tr th:only-of-type {\n",
       "        vertical-align: middle;\n",
       "    }\n",
       "\n",
       "    .dataframe tbody tr th {\n",
       "        vertical-align: top;\n",
       "    }\n",
       "\n",
       "    .dataframe thead th {\n",
       "        text-align: right;\n",
       "    }\n",
       "</style>\n",
       "<table border=\"1\" class=\"dataframe\">\n",
       "  <thead>\n",
       "    <tr style=\"text-align: right;\">\n",
       "      <th></th>\n",
       "      <th>genres</th>\n",
       "      <th>original_title</th>\n",
       "      <th>overview</th>\n",
       "      <th>ratings</th>\n",
       "      <th>votes</th>\n",
       "    </tr>\n",
       "  </thead>\n",
       "  <tbody>\n",
       "    <tr>\n",
       "      <th>0</th>\n",
       "      <td>Action  Adventure  Fantasy</td>\n",
       "      <td>Zack Snyder's Justice League</td>\n",
       "      <td>Determined to ensure Superman's ultimate sacri...</td>\n",
       "      <td>8.2</td>\n",
       "      <td>236855</td>\n",
       "    </tr>\n",
       "    <tr>\n",
       "      <th>1</th>\n",
       "      <td>Action  Sci-Fi  Thriller</td>\n",
       "      <td>Godzilla vs. Kong</td>\n",
       "      <td>The epic next chapter in the cinematic Monster...</td>\n",
       "      <td>6.7</td>\n",
       "      <td>58191</td>\n",
       "    </tr>\n",
       "    <tr>\n",
       "      <th>2</th>\n",
       "      <td>Drama  Thriller</td>\n",
       "      <td>Deadly Illusions</td>\n",
       "      <td>After a bestselling novelist suffering from wr...</td>\n",
       "      <td>3.6</td>\n",
       "      <td>8066</td>\n",
       "    </tr>\n",
       "    <tr>\n",
       "      <th>3</th>\n",
       "      <td>Action  Adventure  Comedy</td>\n",
       "      <td>The Suicide Squad</td>\n",
       "      <td>Supervillains Harley Quinn, Bloodsport, Peacem...</td>\n",
       "      <td>0.0</td>\n",
       "      <td>0</td>\n",
       "    </tr>\n",
       "    <tr>\n",
       "      <th>4</th>\n",
       "      <td>Action  Adventure  Fantasy</td>\n",
       "      <td>Mortal Kombat</td>\n",
       "      <td>MMA fighter Cole Young seeks out Earth's great...</td>\n",
       "      <td>0.0</td>\n",
       "      <td>0</td>\n",
       "    </tr>\n",
       "  </tbody>\n",
       "</table>\n",
       "</div>"
      ],
      "text/plain": [
       "                       genres                original_title  \\\n",
       "0  Action  Adventure  Fantasy  Zack Snyder's Justice League   \n",
       "1    Action  Sci-Fi  Thriller             Godzilla vs. Kong   \n",
       "2             Drama  Thriller              Deadly Illusions   \n",
       "3   Action  Adventure  Comedy             The Suicide Squad   \n",
       "4  Action  Adventure  Fantasy                 Mortal Kombat   \n",
       "\n",
       "                                            overview  ratings   votes  \n",
       "0  Determined to ensure Superman's ultimate sacri...      8.2  236855  \n",
       "1  The epic next chapter in the cinematic Monster...      6.7   58191  \n",
       "2  After a bestselling novelist suffering from wr...      3.6    8066  \n",
       "3  Supervillains Harley Quinn, Bloodsport, Peacem...      0.0       0  \n",
       "4  MMA fighter Cole Young seeks out Earth's great...      0.0       0  "
      ]
     },
     "execution_count": 59,
     "metadata": {},
     "output_type": "execute_result"
    }
   ],
   "source": [
    "dataset_for_2021.head()"
   ]
  },
  {
   "cell_type": "code",
   "execution_count": null,
   "metadata": {},
   "outputs": [],
   "source": []
  },
  {
   "cell_type": "code",
   "execution_count": 60,
   "metadata": {},
   "outputs": [
    {
     "data": {
      "text/plain": [
       "((1999, 5), (2000, 5), (2000, 5), (2000, 5), (2000, 5), (100, 5))"
      ]
     },
     "execution_count": 60,
     "metadata": {},
     "output_type": "execute_result"
    }
   ],
   "source": [
    "dataset_for_2016.shape,dataset_for_2017.shape,dataset_for_2018.shape,dataset_for_2019.shape,dataset_for_2020.shape,dataset_for_2021.shape"
   ]
  },
  {
   "cell_type": "code",
   "execution_count": 124,
   "metadata": {},
   "outputs": [],
   "source": [
    "final_dataset=pd.concat([dataset_for_2016,dataset_for_2017,dataset_for_2018,dataset_for_2019,dataset_for_2020,dataset_for_2021], ignore_index=True)"
   ]
  },
  {
   "cell_type": "code",
   "execution_count": 125,
   "metadata": {},
   "outputs": [
    {
     "data": {
      "text/plain": [
       "(10099, 5)"
      ]
     },
     "execution_count": 125,
     "metadata": {},
     "output_type": "execute_result"
    }
   ],
   "source": [
    "final_dataset.shape"
   ]
  },
  {
   "cell_type": "code",
   "execution_count": 126,
   "metadata": {},
   "outputs": [
    {
     "data": {
      "text/html": [
       "<div>\n",
       "<style scoped>\n",
       "    .dataframe tbody tr th:only-of-type {\n",
       "        vertical-align: middle;\n",
       "    }\n",
       "\n",
       "    .dataframe tbody tr th {\n",
       "        vertical-align: top;\n",
       "    }\n",
       "\n",
       "    .dataframe thead th {\n",
       "        text-align: right;\n",
       "    }\n",
       "</style>\n",
       "<table border=\"1\" class=\"dataframe\">\n",
       "  <thead>\n",
       "    <tr style=\"text-align: right;\">\n",
       "      <th></th>\n",
       "      <th>genres</th>\n",
       "      <th>original_title</th>\n",
       "      <th>overview</th>\n",
       "      <th>ratings</th>\n",
       "      <th>votes</th>\n",
       "    </tr>\n",
       "  </thead>\n",
       "  <tbody>\n",
       "    <tr>\n",
       "      <th>0</th>\n",
       "      <td>Action  Adventure  Sci-Fi</td>\n",
       "      <td>Batman v Superman: Dawn of Justice</td>\n",
       "      <td>Fearing that the actions of Superman are left ...</td>\n",
       "      <td>6.4</td>\n",
       "      <td>642262</td>\n",
       "    </tr>\n",
       "    <tr>\n",
       "      <th>1</th>\n",
       "      <td>Action  Adventure  Fantasy</td>\n",
       "      <td>Suicide Squad</td>\n",
       "      <td>A secret government agency recruits some of th...</td>\n",
       "      <td>6.0</td>\n",
       "      <td>611523</td>\n",
       "    </tr>\n",
       "    <tr>\n",
       "      <th>2</th>\n",
       "      <td>Action  Adventure  Sci-Fi</td>\n",
       "      <td>Captain America: Civil War</td>\n",
       "      <td>Political involvement in the Avengers' affairs...</td>\n",
       "      <td>7.8</td>\n",
       "      <td>675546</td>\n",
       "    </tr>\n",
       "    <tr>\n",
       "      <th>3</th>\n",
       "      <td>Comedy  Drama</td>\n",
       "      <td>Captain Fantastic</td>\n",
       "      <td>In the forests of the Pacific Northwest, a fat...</td>\n",
       "      <td>7.9</td>\n",
       "      <td>194321</td>\n",
       "    </tr>\n",
       "    <tr>\n",
       "      <th>4</th>\n",
       "      <td>Action  Adventure  Comedy</td>\n",
       "      <td>Deadpool</td>\n",
       "      <td>A wisecracking mercenary gets experimented on ...</td>\n",
       "      <td>8.0</td>\n",
       "      <td>913350</td>\n",
       "    </tr>\n",
       "  </tbody>\n",
       "</table>\n",
       "</div>"
      ],
      "text/plain": [
       "                       genres                      original_title  \\\n",
       "0   Action  Adventure  Sci-Fi  Batman v Superman: Dawn of Justice   \n",
       "1  Action  Adventure  Fantasy                       Suicide Squad   \n",
       "2   Action  Adventure  Sci-Fi          Captain America: Civil War   \n",
       "3               Comedy  Drama                   Captain Fantastic   \n",
       "4   Action  Adventure  Comedy                            Deadpool   \n",
       "\n",
       "                                            overview  ratings   votes  \n",
       "0  Fearing that the actions of Superman are left ...      6.4  642262  \n",
       "1  A secret government agency recruits some of th...      6.0  611523  \n",
       "2  Political involvement in the Avengers' affairs...      7.8  675546  \n",
       "3  In the forests of the Pacific Northwest, a fat...      7.9  194321  \n",
       "4  A wisecracking mercenary gets experimented on ...      8.0  913350  "
      ]
     },
     "execution_count": 126,
     "metadata": {},
     "output_type": "execute_result"
    }
   ],
   "source": [
    "final_dataset.head()"
   ]
  },
  {
   "cell_type": "code",
   "execution_count": 127,
   "metadata": {},
   "outputs": [
    {
     "data": {
      "text/plain": [
       "genres            0\n",
       "original_title    0\n",
       "overview          0\n",
       "ratings           0\n",
       "votes             0\n",
       "dtype: int64"
      ]
     },
     "execution_count": 127,
     "metadata": {},
     "output_type": "execute_result"
    }
   ],
   "source": [
    "final_dataset.isna().sum()"
   ]
  },
  {
   "cell_type": "code",
   "execution_count": 128,
   "metadata": {},
   "outputs": [],
   "source": [
    "final_dataset=final_dataset[final_dataset['overview']!='Add a Plot']"
   ]
  },
  {
   "cell_type": "code",
   "execution_count": 129,
   "metadata": {},
   "outputs": [
    {
     "data": {
      "text/plain": [
       "(9980, 5)"
      ]
     },
     "execution_count": 129,
     "metadata": {},
     "output_type": "execute_result"
    }
   ],
   "source": [
    "final_dataset.shape"
   ]
  },
  {
   "cell_type": "code",
   "execution_count": 130,
   "metadata": {},
   "outputs": [],
   "source": [
    "final_dataset=final_dataset[final_dataset['genres']!='unknown']"
   ]
  },
  {
   "cell_type": "code",
   "execution_count": 131,
   "metadata": {},
   "outputs": [
    {
     "data": {
      "text/plain": [
       "(9974, 5)"
      ]
     },
     "execution_count": 131,
     "metadata": {},
     "output_type": "execute_result"
    }
   ],
   "source": [
    "final_dataset.shape"
   ]
  },
  {
   "cell_type": "code",
   "execution_count": 132,
   "metadata": {},
   "outputs": [],
   "source": [
    "final_dataset=final_dataset[final_dataset['ratings']!=0]"
   ]
  },
  {
   "cell_type": "code",
   "execution_count": 133,
   "metadata": {},
   "outputs": [
    {
     "data": {
      "text/plain": [
       "(9654, 5)"
      ]
     },
     "execution_count": 133,
     "metadata": {},
     "output_type": "execute_result"
    }
   ],
   "source": [
    "final_dataset.shape"
   ]
  },
  {
   "cell_type": "code",
   "execution_count": 134,
   "metadata": {},
   "outputs": [
    {
     "data": {
      "text/html": [
       "<div>\n",
       "<style scoped>\n",
       "    .dataframe tbody tr th:only-of-type {\n",
       "        vertical-align: middle;\n",
       "    }\n",
       "\n",
       "    .dataframe tbody tr th {\n",
       "        vertical-align: top;\n",
       "    }\n",
       "\n",
       "    .dataframe thead th {\n",
       "        text-align: right;\n",
       "    }\n",
       "</style>\n",
       "<table border=\"1\" class=\"dataframe\">\n",
       "  <thead>\n",
       "    <tr style=\"text-align: right;\">\n",
       "      <th></th>\n",
       "      <th>genres</th>\n",
       "      <th>original_title</th>\n",
       "      <th>overview</th>\n",
       "      <th>ratings</th>\n",
       "      <th>votes</th>\n",
       "    </tr>\n",
       "  </thead>\n",
       "  <tbody>\n",
       "    <tr>\n",
       "      <th>0</th>\n",
       "      <td>Action  Adventure  Sci-Fi</td>\n",
       "      <td>Batman v Superman: Dawn of Justice</td>\n",
       "      <td>Fearing that the actions of Superman are left ...</td>\n",
       "      <td>6.4</td>\n",
       "      <td>642262</td>\n",
       "    </tr>\n",
       "    <tr>\n",
       "      <th>1</th>\n",
       "      <td>Action  Adventure  Fantasy</td>\n",
       "      <td>Suicide Squad</td>\n",
       "      <td>A secret government agency recruits some of th...</td>\n",
       "      <td>6.0</td>\n",
       "      <td>611523</td>\n",
       "    </tr>\n",
       "    <tr>\n",
       "      <th>2</th>\n",
       "      <td>Action  Adventure  Sci-Fi</td>\n",
       "      <td>Captain America: Civil War</td>\n",
       "      <td>Political involvement in the Avengers' affairs...</td>\n",
       "      <td>7.8</td>\n",
       "      <td>675546</td>\n",
       "    </tr>\n",
       "    <tr>\n",
       "      <th>3</th>\n",
       "      <td>Comedy  Drama</td>\n",
       "      <td>Captain Fantastic</td>\n",
       "      <td>In the forests of the Pacific Northwest, a fat...</td>\n",
       "      <td>7.9</td>\n",
       "      <td>194321</td>\n",
       "    </tr>\n",
       "    <tr>\n",
       "      <th>4</th>\n",
       "      <td>Action  Adventure  Comedy</td>\n",
       "      <td>Deadpool</td>\n",
       "      <td>A wisecracking mercenary gets experimented on ...</td>\n",
       "      <td>8.0</td>\n",
       "      <td>913350</td>\n",
       "    </tr>\n",
       "  </tbody>\n",
       "</table>\n",
       "</div>"
      ],
      "text/plain": [
       "                       genres                      original_title  \\\n",
       "0   Action  Adventure  Sci-Fi  Batman v Superman: Dawn of Justice   \n",
       "1  Action  Adventure  Fantasy                       Suicide Squad   \n",
       "2   Action  Adventure  Sci-Fi          Captain America: Civil War   \n",
       "3               Comedy  Drama                   Captain Fantastic   \n",
       "4   Action  Adventure  Comedy                            Deadpool   \n",
       "\n",
       "                                            overview  ratings   votes  \n",
       "0  Fearing that the actions of Superman are left ...      6.4  642262  \n",
       "1  A secret government agency recruits some of th...      6.0  611523  \n",
       "2  Political involvement in the Avengers' affairs...      7.8  675546  \n",
       "3  In the forests of the Pacific Northwest, a fat...      7.9  194321  \n",
       "4  A wisecracking mercenary gets experimented on ...      8.0  913350  "
      ]
     },
     "execution_count": 134,
     "metadata": {},
     "output_type": "execute_result"
    }
   ],
   "source": [
    "final_dataset.head()"
   ]
  },
  {
   "cell_type": "code",
   "execution_count": 135,
   "metadata": {},
   "outputs": [
    {
     "name": "stdout",
     "output_type": "stream",
     "text": [
      "<class 'pandas.core.frame.DataFrame'>\n",
      "Int64Index: 9654 entries, 0 to 10098\n",
      "Data columns (total 5 columns):\n",
      "genres            9654 non-null object\n",
      "original_title    9654 non-null object\n",
      "overview          9654 non-null object\n",
      "ratings           9654 non-null float64\n",
      "votes             9654 non-null object\n",
      "dtypes: float64(1), object(4)\n",
      "memory usage: 452.5+ KB\n"
     ]
    }
   ],
   "source": [
    "final_dataset.info()"
   ]
  },
  {
   "cell_type": "code",
   "execution_count": 136,
   "metadata": {},
   "outputs": [
    {
     "data": {
      "text/html": [
       "<div>\n",
       "<style scoped>\n",
       "    .dataframe tbody tr th:only-of-type {\n",
       "        vertical-align: middle;\n",
       "    }\n",
       "\n",
       "    .dataframe tbody tr th {\n",
       "        vertical-align: top;\n",
       "    }\n",
       "\n",
       "    .dataframe thead th {\n",
       "        text-align: right;\n",
       "    }\n",
       "</style>\n",
       "<table border=\"1\" class=\"dataframe\">\n",
       "  <thead>\n",
       "    <tr style=\"text-align: right;\">\n",
       "      <th></th>\n",
       "      <th>genres</th>\n",
       "      <th>original_title</th>\n",
       "      <th>overview</th>\n",
       "      <th>ratings</th>\n",
       "      <th>votes</th>\n",
       "    </tr>\n",
       "  </thead>\n",
       "  <tbody>\n",
       "  </tbody>\n",
       "</table>\n",
       "</div>"
      ],
      "text/plain": [
       "Empty DataFrame\n",
       "Columns: [genres, original_title, overview, ratings, votes]\n",
       "Index: []"
      ]
     },
     "execution_count": 136,
     "metadata": {},
     "output_type": "execute_result"
    }
   ],
   "source": [
    "final_dataset[final_dataset['votes'].str.startswith('$')]"
   ]
  },
  {
   "cell_type": "code",
   "execution_count": 137,
   "metadata": {},
   "outputs": [],
   "source": [
    "final_dataset['votes']=final_dataset['votes'].astype('int')"
   ]
  },
  {
   "cell_type": "code",
   "execution_count": 138,
   "metadata": {},
   "outputs": [
    {
     "name": "stdout",
     "output_type": "stream",
     "text": [
      "<class 'pandas.core.frame.DataFrame'>\n",
      "Int64Index: 9654 entries, 0 to 10098\n",
      "Data columns (total 5 columns):\n",
      "genres            9654 non-null object\n",
      "original_title    9654 non-null object\n",
      "overview          9654 non-null object\n",
      "ratings           9654 non-null float64\n",
      "votes             9654 non-null int32\n",
      "dtypes: float64(1), int32(1), object(3)\n",
      "memory usage: 414.8+ KB\n"
     ]
    }
   ],
   "source": [
    "final_dataset.info()"
   ]
  },
  {
   "cell_type": "code",
   "execution_count": 139,
   "metadata": {},
   "outputs": [
    {
     "data": {
      "text/plain": [
       "<matplotlib.axes._subplots.AxesSubplot at 0x1c9fc64d408>"
      ]
     },
     "execution_count": 139,
     "metadata": {},
     "output_type": "execute_result"
    },
    {
     "data": {
      "image/png": "[encoded data removed]",
      "text/plain": [
       "<Figure size 432x288 with 1 Axes>"
      ]
     },
     "metadata": {
      "needs_background": "light"
     },
     "output_type": "display_data"
    }
   ],
   "source": [
    "sns.distplot(final_dataset['votes'])"
   ]
  },
  {
   "cell_type": "code",
   "execution_count": 140,
   "metadata": {},
   "outputs": [
    {
     "data": {
      "text/html": [
       "<div>\n",
       "<style scoped>\n",
       "    .dataframe tbody tr th:only-of-type {\n",
       "        vertical-align: middle;\n",
       "    }\n",
       "\n",
       "    .dataframe tbody tr th {\n",
       "        vertical-align: top;\n",
       "    }\n",
       "\n",
       "    .dataframe thead th {\n",
       "        text-align: right;\n",
       "    }\n",
       "</style>\n",
       "<table border=\"1\" class=\"dataframe\">\n",
       "  <thead>\n",
       "    <tr style=\"text-align: right;\">\n",
       "      <th></th>\n",
       "      <th>genres</th>\n",
       "      <th>original_title</th>\n",
       "      <th>overview</th>\n",
       "      <th>ratings</th>\n",
       "      <th>votes</th>\n",
       "    </tr>\n",
       "  </thead>\n",
       "  <tbody>\n",
       "    <tr>\n",
       "      <th>0</th>\n",
       "      <td>Action  Adventure  Sci-Fi</td>\n",
       "      <td>Batman v Superman: Dawn of Justice</td>\n",
       "      <td>Fearing that the actions of Superman are left ...</td>\n",
       "      <td>6.4</td>\n",
       "      <td>642262</td>\n",
       "    </tr>\n",
       "    <tr>\n",
       "      <th>1</th>\n",
       "      <td>Action  Adventure  Fantasy</td>\n",
       "      <td>Suicide Squad</td>\n",
       "      <td>A secret government agency recruits some of th...</td>\n",
       "      <td>6.0</td>\n",
       "      <td>611523</td>\n",
       "    </tr>\n",
       "    <tr>\n",
       "      <th>2</th>\n",
       "      <td>Action  Adventure  Sci-Fi</td>\n",
       "      <td>Captain America: Civil War</td>\n",
       "      <td>Political involvement in the Avengers' affairs...</td>\n",
       "      <td>7.8</td>\n",
       "      <td>675546</td>\n",
       "    </tr>\n",
       "    <tr>\n",
       "      <th>3</th>\n",
       "      <td>Comedy  Drama</td>\n",
       "      <td>Captain Fantastic</td>\n",
       "      <td>In the forests of the Pacific Northwest, a fat...</td>\n",
       "      <td>7.9</td>\n",
       "      <td>194321</td>\n",
       "    </tr>\n",
       "    <tr>\n",
       "      <th>4</th>\n",
       "      <td>Action  Adventure  Comedy</td>\n",
       "      <td>Deadpool</td>\n",
       "      <td>A wisecracking mercenary gets experimented on ...</td>\n",
       "      <td>8.0</td>\n",
       "      <td>913350</td>\n",
       "    </tr>\n",
       "  </tbody>\n",
       "</table>\n",
       "</div>"
      ],
      "text/plain": [
       "                       genres                      original_title  \\\n",
       "0   Action  Adventure  Sci-Fi  Batman v Superman: Dawn of Justice   \n",
       "1  Action  Adventure  Fantasy                       Suicide Squad   \n",
       "2   Action  Adventure  Sci-Fi          Captain America: Civil War   \n",
       "3               Comedy  Drama                   Captain Fantastic   \n",
       "4   Action  Adventure  Comedy                            Deadpool   \n",
       "\n",
       "                                            overview  ratings   votes  \n",
       "0  Fearing that the actions of Superman are left ...      6.4  642262  \n",
       "1  A secret government agency recruits some of th...      6.0  611523  \n",
       "2  Political involvement in the Avengers' affairs...      7.8  675546  \n",
       "3  In the forests of the Pacific Northwest, a fat...      7.9  194321  \n",
       "4  A wisecracking mercenary gets experimented on ...      8.0  913350  "
      ]
     },
     "execution_count": 140,
     "metadata": {},
     "output_type": "execute_result"
    }
   ],
   "source": [
    "final_dataset.head()"
   ]
  },
  {
   "cell_type": "code",
   "execution_count": 141,
   "metadata": {},
   "outputs": [],
   "source": [
    "final_dataset['original_title']=final_dataset['original_title'].apply(lambda x : x.lower())"
   ]
  },
  {
   "cell_type": "code",
   "execution_count": 142,
   "metadata": {},
   "outputs": [
    {
     "data": {
      "text/html": [
       "<div>\n",
       "<style scoped>\n",
       "    .dataframe tbody tr th:only-of-type {\n",
       "        vertical-align: middle;\n",
       "    }\n",
       "\n",
       "    .dataframe tbody tr th {\n",
       "        vertical-align: top;\n",
       "    }\n",
       "\n",
       "    .dataframe thead th {\n",
       "        text-align: right;\n",
       "    }\n",
       "</style>\n",
       "<table border=\"1\" class=\"dataframe\">\n",
       "  <thead>\n",
       "    <tr style=\"text-align: right;\">\n",
       "      <th></th>\n",
       "      <th>genres</th>\n",
       "      <th>original_title</th>\n",
       "      <th>overview</th>\n",
       "      <th>ratings</th>\n",
       "      <th>votes</th>\n",
       "    </tr>\n",
       "  </thead>\n",
       "  <tbody>\n",
       "    <tr>\n",
       "      <th>0</th>\n",
       "      <td>Action  Adventure  Sci-Fi</td>\n",
       "      <td>batman v superman: dawn of justice</td>\n",
       "      <td>Fearing that the actions of Superman are left ...</td>\n",
       "      <td>6.4</td>\n",
       "      <td>642262</td>\n",
       "    </tr>\n",
       "    <tr>\n",
       "      <th>1</th>\n",
       "      <td>Action  Adventure  Fantasy</td>\n",
       "      <td>suicide squad</td>\n",
       "      <td>A secret government agency recruits some of th...</td>\n",
       "      <td>6.0</td>\n",
       "      <td>611523</td>\n",
       "    </tr>\n",
       "    <tr>\n",
       "      <th>2</th>\n",
       "      <td>Action  Adventure  Sci-Fi</td>\n",
       "      <td>captain america: civil war</td>\n",
       "      <td>Political involvement in the Avengers' affairs...</td>\n",
       "      <td>7.8</td>\n",
       "      <td>675546</td>\n",
       "    </tr>\n",
       "    <tr>\n",
       "      <th>3</th>\n",
       "      <td>Comedy  Drama</td>\n",
       "      <td>captain fantastic</td>\n",
       "      <td>In the forests of the Pacific Northwest, a fat...</td>\n",
       "      <td>7.9</td>\n",
       "      <td>194321</td>\n",
       "    </tr>\n",
       "    <tr>\n",
       "      <th>4</th>\n",
       "      <td>Action  Adventure  Comedy</td>\n",
       "      <td>deadpool</td>\n",
       "      <td>A wisecracking mercenary gets experimented on ...</td>\n",
       "      <td>8.0</td>\n",
       "      <td>913350</td>\n",
       "    </tr>\n",
       "  </tbody>\n",
       "</table>\n",
       "</div>"
      ],
      "text/plain": [
       "                       genres                      original_title  \\\n",
       "0   Action  Adventure  Sci-Fi  batman v superman: dawn of justice   \n",
       "1  Action  Adventure  Fantasy                       suicide squad   \n",
       "2   Action  Adventure  Sci-Fi          captain america: civil war   \n",
       "3               Comedy  Drama                   captain fantastic   \n",
       "4   Action  Adventure  Comedy                            deadpool   \n",
       "\n",
       "                                            overview  ratings   votes  \n",
       "0  Fearing that the actions of Superman are left ...      6.4  642262  \n",
       "1  A secret government agency recruits some of th...      6.0  611523  \n",
       "2  Political involvement in the Avengers' affairs...      7.8  675546  \n",
       "3  In the forests of the Pacific Northwest, a fat...      7.9  194321  \n",
       "4  A wisecracking mercenary gets experimented on ...      8.0  913350  "
      ]
     },
     "execution_count": 142,
     "metadata": {},
     "output_type": "execute_result"
    }
   ],
   "source": [
    "final_dataset.head()"
   ]
  },
  {
   "cell_type": "code",
   "execution_count": 143,
   "metadata": {},
   "outputs": [],
   "source": [
    "final_dataset.dropna(how='any',inplace=True)"
   ]
  },
  {
   "cell_type": "code",
   "execution_count": 144,
   "metadata": {},
   "outputs": [
    {
     "data": {
      "text/plain": [
       "0    Fearing that the actions of Superman are left ...\n",
       "Name: overview, dtype: object"
      ]
     },
     "execution_count": 144,
     "metadata": {},
     "output_type": "execute_result"
    }
   ],
   "source": [
    "final_dataset.head(1)['overview']"
   ]
  },
  {
   "cell_type": "code",
   "execution_count": 145,
   "metadata": {},
   "outputs": [],
   "source": [
    "stop=set(stopwords.words('english'))\n",
    "exclude=set(string.punctuation)\n",
    "lemma=WordNetLemmatizer()"
   ]
  },
  {
   "cell_type": "code",
   "execution_count": 146,
   "metadata": {},
   "outputs": [],
   "source": [
    "def clean(text):\n",
    "    stop_free= \" \".join([word for word in text.lower().split() if word not in stop])\n",
    "    punc_free=\" \".join([word for word in stop_free.split() if word not in exclude])\n",
    "    normalized=\" \".join([lemma.lemmatize(word) for word in punc_free.split()])\n",
    "\n",
    "    return normalized"
   ]
  },
  {
   "cell_type": "code",
   "execution_count": 147,
   "metadata": {},
   "outputs": [],
   "source": [
    "final_dataset['overview_new']=final_dataset['overview'].apply(lambda x: clean(x))"
   ]
  },
  {
   "cell_type": "code",
   "execution_count": 148,
   "metadata": {},
   "outputs": [
    {
     "data": {
      "text/html": [
       "<div>\n",
       "<style scoped>\n",
       "    .dataframe tbody tr th:only-of-type {\n",
       "        vertical-align: middle;\n",
       "    }\n",
       "\n",
       "    .dataframe tbody tr th {\n",
       "        vertical-align: top;\n",
       "    }\n",
       "\n",
       "    .dataframe thead th {\n",
       "        text-align: right;\n",
       "    }\n",
       "</style>\n",
       "<table border=\"1\" class=\"dataframe\">\n",
       "  <thead>\n",
       "    <tr style=\"text-align: right;\">\n",
       "      <th></th>\n",
       "      <th>overview</th>\n",
       "      <th>overview_new</th>\n",
       "    </tr>\n",
       "  </thead>\n",
       "  <tbody>\n",
       "    <tr>\n",
       "      <th>0</th>\n",
       "      <td>Fearing that the actions of Superman are left ...</td>\n",
       "      <td>fearing action superman left unchecked, batman...</td>\n",
       "    </tr>\n",
       "    <tr>\n",
       "      <th>1</th>\n",
       "      <td>A secret government agency recruits some of th...</td>\n",
       "      <td>secret government agency recruit dangerous inc...</td>\n",
       "    </tr>\n",
       "    <tr>\n",
       "      <th>2</th>\n",
       "      <td>Political involvement in the Avengers' affairs...</td>\n",
       "      <td>political involvement avengers' affair cause r...</td>\n",
       "    </tr>\n",
       "    <tr>\n",
       "      <th>3</th>\n",
       "      <td>In the forests of the Pacific Northwest, a fat...</td>\n",
       "      <td>forest pacific northwest, father devoted raisi...</td>\n",
       "    </tr>\n",
       "    <tr>\n",
       "      <th>4</th>\n",
       "      <td>A wisecracking mercenary gets experimented on ...</td>\n",
       "      <td>wisecracking mercenary get experimented become...</td>\n",
       "    </tr>\n",
       "  </tbody>\n",
       "</table>\n",
       "</div>"
      ],
      "text/plain": [
       "                                            overview  \\\n",
       "0  Fearing that the actions of Superman are left ...   \n",
       "1  A secret government agency recruits some of th...   \n",
       "2  Political involvement in the Avengers' affairs...   \n",
       "3  In the forests of the Pacific Northwest, a fat...   \n",
       "4  A wisecracking mercenary gets experimented on ...   \n",
       "\n",
       "                                        overview_new  \n",
       "0  fearing action superman left unchecked, batman...  \n",
       "1  secret government agency recruit dangerous inc...  \n",
       "2  political involvement avengers' affair cause r...  \n",
       "3  forest pacific northwest, father devoted raisi...  \n",
       "4  wisecracking mercenary get experimented become...  "
      ]
     },
     "execution_count": 148,
     "metadata": {},
     "output_type": "execute_result"
    }
   ],
   "source": [
    "final_dataset[['overview','overview_new']].head()"
   ]
  },
  {
   "cell_type": "code",
   "execution_count": 149,
   "metadata": {},
   "outputs": [
    {
     "data": {
      "text/html": [
       "<div>\n",
       "<style scoped>\n",
       "    .dataframe tbody tr th:only-of-type {\n",
       "        vertical-align: middle;\n",
       "    }\n",
       "\n",
       "    .dataframe tbody tr th {\n",
       "        vertical-align: top;\n",
       "    }\n",
       "\n",
       "    .dataframe thead th {\n",
       "        text-align: right;\n",
       "    }\n",
       "</style>\n",
       "<table border=\"1\" class=\"dataframe\">\n",
       "  <thead>\n",
       "    <tr style=\"text-align: right;\">\n",
       "      <th></th>\n",
       "      <th>genres</th>\n",
       "      <th>original_title</th>\n",
       "      <th>overview</th>\n",
       "      <th>ratings</th>\n",
       "      <th>votes</th>\n",
       "      <th>overview_new</th>\n",
       "    </tr>\n",
       "  </thead>\n",
       "  <tbody>\n",
       "    <tr>\n",
       "      <th>0</th>\n",
       "      <td>Action  Adventure  Sci-Fi</td>\n",
       "      <td>batman v superman: dawn of justice</td>\n",
       "      <td>Fearing that the actions of Superman are left ...</td>\n",
       "      <td>6.4</td>\n",
       "      <td>642262</td>\n",
       "      <td>fearing action superman left unchecked, batman...</td>\n",
       "    </tr>\n",
       "    <tr>\n",
       "      <th>1</th>\n",
       "      <td>Action  Adventure  Fantasy</td>\n",
       "      <td>suicide squad</td>\n",
       "      <td>A secret government agency recruits some of th...</td>\n",
       "      <td>6.0</td>\n",
       "      <td>611523</td>\n",
       "      <td>secret government agency recruit dangerous inc...</td>\n",
       "    </tr>\n",
       "    <tr>\n",
       "      <th>2</th>\n",
       "      <td>Action  Adventure  Sci-Fi</td>\n",
       "      <td>captain america: civil war</td>\n",
       "      <td>Political involvement in the Avengers' affairs...</td>\n",
       "      <td>7.8</td>\n",
       "      <td>675546</td>\n",
       "      <td>political involvement avengers' affair cause r...</td>\n",
       "    </tr>\n",
       "    <tr>\n",
       "      <th>3</th>\n",
       "      <td>Comedy  Drama</td>\n",
       "      <td>captain fantastic</td>\n",
       "      <td>In the forests of the Pacific Northwest, a fat...</td>\n",
       "      <td>7.9</td>\n",
       "      <td>194321</td>\n",
       "      <td>forest pacific northwest, father devoted raisi...</td>\n",
       "    </tr>\n",
       "    <tr>\n",
       "      <th>4</th>\n",
       "      <td>Action  Adventure  Comedy</td>\n",
       "      <td>deadpool</td>\n",
       "      <td>A wisecracking mercenary gets experimented on ...</td>\n",
       "      <td>8.0</td>\n",
       "      <td>913350</td>\n",
       "      <td>wisecracking mercenary get experimented become...</td>\n",
       "    </tr>\n",
       "  </tbody>\n",
       "</table>\n",
       "</div>"
      ],
      "text/plain": [
       "                       genres                      original_title  \\\n",
       "0   Action  Adventure  Sci-Fi  batman v superman: dawn of justice   \n",
       "1  Action  Adventure  Fantasy                       suicide squad   \n",
       "2   Action  Adventure  Sci-Fi          captain america: civil war   \n",
       "3               Comedy  Drama                   captain fantastic   \n",
       "4   Action  Adventure  Comedy                            deadpool   \n",
       "\n",
       "                                            overview  ratings   votes  \\\n",
       "0  Fearing that the actions of Superman are left ...      6.4  642262   \n",
       "1  A secret government agency recruits some of th...      6.0  611523   \n",
       "2  Political involvement in the Avengers' affairs...      7.8  675546   \n",
       "3  In the forests of the Pacific Northwest, a fat...      7.9  194321   \n",
       "4  A wisecracking mercenary gets experimented on ...      8.0  913350   \n",
       "\n",
       "                                        overview_new  \n",
       "0  fearing action superman left unchecked, batman...  \n",
       "1  secret government agency recruit dangerous inc...  \n",
       "2  political involvement avengers' affair cause r...  \n",
       "3  forest pacific northwest, father devoted raisi...  \n",
       "4  wisecracking mercenary get experimented become...  "
      ]
     },
     "execution_count": 149,
     "metadata": {},
     "output_type": "execute_result"
    }
   ],
   "source": [
    "final_dataset.head()"
   ]
  },
  {
   "cell_type": "code",
   "execution_count": 150,
   "metadata": {},
   "outputs": [],
   "source": [
    "final_dataset.to_csv('Dataset For Recommendation.csv',index=False)"
   ]
  },
  {
   "cell_type": "code",
   "execution_count": null,
   "metadata": {},
   "outputs": [],
   "source": []
  },
  {
   "cell_type": "code",
   "execution_count": null,
   "metadata": {},
   "outputs": [],
   "source": []
  }
 ],
 "metadata": {
  "kernelspec": {
   "display_name": "Python 3",
   "language": "python",
   "name": "python3"
  },
  "language_info": {
   "codemirror_mode": {
    "name": "ipython",
    "version": 3
   },
   "file_extension": ".py",
   "mimetype": "text/x-python",
   "name": "python",
   "nbconvert_exporter": "python",
   "pygments_lexer": "ipython3",
   "version": "3.7.4"
  }
 },
 "nbformat": 4,
 "nbformat_minor": 2
}
